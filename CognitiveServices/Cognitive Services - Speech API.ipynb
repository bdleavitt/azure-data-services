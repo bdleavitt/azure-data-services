{
 "cells": [
  {
   "cell_type": "markdown",
   "metadata": {},
   "source": [
    "1. Functional Description\n",
    "2. SLA / Limitations\n",
    "3. Identity\n",
    "4. Network\n",
    "5. Performance\n",
    "6. Pricing"
   ]
  },
  {
   "cell_type": "markdown",
   "metadata": {},
   "source": [
    "## A Unified Speech API\n",
    "The Speech Services combines features previously available via the Bing Speech API, Translator Speech, Custom Speech, Custom Voice services. \n",
    "\n",
    "The same subscription key (API key) will work for all. \n",
    "\n"
   ]
  },
  {
   "cell_type": "markdown",
   "metadata": {},
   "source": [
    "## Speech Service Functions\n",
    "1. __Speech to Text__\n",
    "    * Transcribes continuous real-time speech into text.\n",
    "    * Can batch-transcribe speech from audio recordings. \n",
    "    * Supports intermediate results, end-of-speech detection, automatic text formatting, and profanity masking. \n",
    "    * Can call on Language Understanding (LUIS) to derive user intent from transcribed speech.*\n",
    "2. __Text to Speech__\n",
    "    * NEW: Provides neural text-to-speech voices nearly indistinguishable from human speech (English). \n",
    "    * Converts text to natural-sounding speech. \n",
    "    * Offers multiple genders and/or dialects for many supported languages. \n",
    "    * Supports plain text input or Speech Synthesis Markup Language (SSML).\n",
    "3. __Speech Translation__\n",
    "    * Translates streaming audio in near-real-time.\n",
    "    * Can also process recorded speech.\n",
    "    * Provides results as text or synthesized speech."
   ]
  },
  {
   "cell_type": "markdown",
   "metadata": {},
   "source": [
    "## SDK and REST Support\n",
    "| Method | Speech to Text | Text to Speech | Speech Translation | Description |\n",
    "| --- | --- | --- | --- | --- |\n",
    "| Speech SDK | Yes | No | Yes | Native APIs for C'#', C++, and Java to simplify development. |\n",
    "| REST APIs | Yes | Yes | No | A simple HTTP-based API that makes it easy to add speech to your applications. |"
   ]
  },
  {
   "cell_type": "markdown",
   "metadata": {},
   "source": [
    "WebSockets are also supported, but not encouraged. \n",
    "Speech Devices SDK"
   ]
  },
  {
   "cell_type": "markdown",
   "metadata": {},
   "source": [
    "## Speech to Text w/ Python"
   ]
  },
  {
   "cell_type": "code",
   "execution_count": 1,
   "metadata": {},
   "outputs": [
    {
     "name": "stdout",
     "output_type": "stream",
     "text": [
      "Requirement already satisfied: azure-cognitiveservices-speech in c:\\users\\bleavitt\\appdata\\local\\continuum\\anaconda3\\envs\\azureenv\\lib\\site-packages (1.3.1)\n"
     ]
    }
   ],
   "source": [
    "! pip install azure-cognitiveservices-speech"
   ]
  },
  {
   "cell_type": "code",
   "execution_count": 2,
   "metadata": {},
   "outputs": [],
   "source": [
    "import azure.cognitiveservices.speech as speechsdk"
   ]
  },
  {
   "cell_type": "code",
   "execution_count": 8,
   "metadata": {},
   "outputs": [],
   "source": [
    "# Initialize a speech recognizer\n",
    "speech_key, service_region = \"580816688abc425fbf009510c8f9dea3\", \"eastus2\"\n",
    "speech_config = speechsdk.SpeechConfig(subscription=speech_key, region=service_region, speech_recognition_language='en-US')\n",
    "speech_recognizer = speechsdk.SpeechRecognizer(speech_config=speech_config)"
   ]
  },
  {
   "cell_type": "markdown",
   "metadata": {},
   "source": [
    "### Single-Utterance Recognition"
   ]
  },
  {
   "cell_type": "code",
   "execution_count": 10,
   "metadata": {},
   "outputs": [
    {
     "name": "stdout",
     "output_type": "stream",
     "text": [
      "Say something...\n",
      "Recognized: Hello hello hello.\n"
     ]
    }
   ],
   "source": [
    "print(\"Say something...\")\n",
    "result = speech_recognizer.recognize_once()\n",
    "\n",
    "# Checks result.\n",
    "if result.reason == speechsdk.ResultReason.RecognizedSpeech:\n",
    "    print(\"Recognized: {}\".format(result.text))\n",
    "elif result.reason == speechsdk.ResultReason.NoMatch:\n",
    "    print(\"No speech could be recognized: {}\".format(result.no_match_details))\n",
    "elif result.reason == speechsdk.ResultReason.Canceled:\n",
    "    cancellation_details = result.cancellation_details\n",
    "    print(\"Speech Recognition canceled: {}\".format(cancellation_details.reason))\n",
    "    if cancellation_details.reason == speechsdk.CancellationReason.Error:\n",
    "        print(\"Error details: {}\".format(cancellation_details.error_details))"
   ]
  },
  {
   "cell_type": "markdown",
   "metadata": {},
   "source": [
    "### Multi-Utterance Recognition"
   ]
  },
  {
   "cell_type": "code",
   "execution_count": 16,
   "metadata": {
    "scrolled": true
   },
   "outputs": [
    {
     "name": "stdout",
     "output_type": "stream",
     "text": [
      "Say a few words\n",
      "\n",
      "\n",
      "SESSION STARTED: SessionEventArgs(session_id=c3fcae8e56ae454f9709fbbf3d40fe8a)\n",
      "\n",
      "\n",
      "Wrapped his arms around the American flag while walking onto stage compelled by a patriotism, he couldn't control things only got stranger. After that, the president spoke for 2 more hours. It was the longest speech of his presidency, perhaps any presidency. It eclipse the 1841 inauguration speech.\n",
      "\n",
      "\n",
      "New Henry Harrison, who almost who spoke for almost 2 hours. Remember, he died later because of the cold, they were many words big and small some were downright confounding.\n",
      "\n",
      "\n",
      "You know, I'm totally off script, the attorney. Generals I'm going to recuse myself. I have one of the great inventions in history is called tivo. They think we're stupid. Oh, I never saw so many beautiful looking machine guns. Sir my name is raise and what the hell kind of a day I said raising like the fruit.\n",
      "\n",
      "\n",
      "Garlic is the wind blowing today I'd like to watch television darling and I'm in.\n",
      "\n",
      "SESSION STOPPED SessionEventArgs(session_id=c3fcae8e56ae454f9709fbbf3d40fe8a)\n"
     ]
    }
   ],
   "source": [
    "import azure.cognitiveservices.speech as speechsdk\n",
    "import time\n",
    "# Initialize a speech recognizer\n",
    "speech_key, service_region = \"580816688abc425fbf009510c8f9dea3\", \"eastus2\"\n",
    "speech_config = speechsdk.SpeechConfig(subscription=speech_key, region=service_region, speech_recognition_language='en-US')\n",
    "speech_recognizer = speechsdk.SpeechRecognizer(speech_config=speech_config)\n",
    "\n",
    "speech_recognizer.session_started.connect(lambda evt: print('SESSION STARTED: {}'.format(evt)))\n",
    "speech_recognizer.session_stopped.connect(lambda evt: print('\\nSESSION STOPPED {}'.format(evt)))\n",
    "speech_recognizer.recognized.connect(lambda evt: print('\\n\\n{}'.format(evt.result.text)))\n",
    "\n",
    "print('Say a few words\\n\\n')\n",
    "speech_recognizer.start_continuous_recognition()\n",
    "time.sleep(60)\n",
    "speech_recognizer.stop_continuous_recognition()\n",
    "\n",
    "speech_recognizer.session_started.disconnect_all()\n",
    "speech_recognizer.recognized.disconnect_all()\n",
    "speech_recognizer.session_stopped.disconnect_all()"
   ]
  },
  {
   "cell_type": "code",
   "execution_count": null,
   "metadata": {},
   "outputs": [],
   "source": []
  }
 ],
 "metadata": {
  "kernelspec": {
   "display_name": "Python 3",
   "language": "python",
   "name": "python3"
  },
  "language_info": {
   "codemirror_mode": {
    "name": "ipython",
    "version": 3
   },
   "file_extension": ".py",
   "mimetype": "text/x-python",
   "name": "python",
   "nbconvert_exporter": "python",
   "pygments_lexer": "ipython3",
   "version": "3.6.8"
  }
 },
 "nbformat": 4,
 "nbformat_minor": 2
}
